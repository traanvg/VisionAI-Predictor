{
 "cells": [
  {
   "cell_type": "code",
   "execution_count": 1,
   "id": "a8f39bf2-ab1b-4ed1-8760-fbe70a46d667",
   "metadata": {},
   "outputs": [],
   "source": [
    "import numpy as np\n",
    "from PIL import Image\n",
    "\n",
    "import torch\n",
    "import torch.nn as nn\n",
    "import torch.nn.functional as F\n",
    "import torch.optim as optim\n",
    "\n",
    "import torchvision\n",
    "import torchvision.transforms as transforms "
   ]
  },
  {
   "cell_type": "code",
   "execution_count": 2,
   "id": "ce594189-3dfe-4cf3-8e8a-befa22dfbd31",
   "metadata": {},
   "outputs": [],
   "source": [
    "transform = transforms.Compose([\n",
    "    transforms.ToTensor(),\n",
    "    transforms.Normalize((0.5, 0.5, 0.5), (0.5, 0.5, 0.5))\n",
    "])"
   ]
  },
  {
   "cell_type": "code",
   "execution_count": 3,
   "id": "23ebeb82-caab-448d-996a-3e85077f3d16",
   "metadata": {},
   "outputs": [
    {
     "name": "stdout",
     "output_type": "stream",
     "text": [
      "Downloading https://www.cs.toronto.edu/~kriz/cifar-10-python.tar.gz to ./data/cifar-10-python.tar.gz\n"
     ]
    },
    {
     "name": "stderr",
     "output_type": "stream",
     "text": [
      "100%|████████████████████████████████████████| 170M/170M [42:47<00:00, 66.4kB/s]\n"
     ]
    },
    {
     "name": "stdout",
     "output_type": "stream",
     "text": [
      "Extracting ./data/cifar-10-python.tar.gz to ./data\n",
      "Files already downloaded and verified\n"
     ]
    }
   ],
   "source": [
    "train_data = torchvision.datasets.CIFAR10(root='./data', train=True, transform=transform, download=True)  # Fixed closing parenthesis\n",
    "\n",
    "test_data = torchvision.datasets.CIFAR10(root='./data', train=False, transform=transform, download=True)  # Fixed typo in 'download'\n",
    "\n",
    "train_loader = torch.utils.data.DataLoader(train_data, batch_size=32, shuffle=True, num_workers=2)\n",
    "test_loader = torch.utils.data.DataLoader(test_data, batch_size=32, shuffle=True, num_workers=2)\n"
   ]
  },
  {
   "cell_type": "code",
   "execution_count": 4,
   "id": "8d6e4f0f-c9a1-47f8-9dc3-9211b92e41ad",
   "metadata": {},
   "outputs": [],
   "source": [
    "image, label = train_data[0]"
   ]
  },
  {
   "cell_type": "code",
   "execution_count": 5,
   "id": "bdcbb51f-5d08-4909-84d3-ed8cae90a4b8",
   "metadata": {},
   "outputs": [
    {
     "data": {
      "text/plain": [
       "torch.Size([3, 32, 32])"
      ]
     },
     "execution_count": 5,
     "metadata": {},
     "output_type": "execute_result"
    }
   ],
   "source": [
    "image.size()"
   ]
  },
  {
   "cell_type": "code",
   "execution_count": 6,
   "id": "e4cceb5a-f87f-4fe2-b9bb-4487bb73cf3c",
   "metadata": {},
   "outputs": [],
   "source": [
    "class_names = ['plane', 'car', 'bird', 'cat', 'deer', 'dog', 'frog', 'horse', 'ship', 'truck']"
   ]
  },
  {
   "cell_type": "code",
   "execution_count": 7,
   "id": "d5f866ba-4e40-4bf5-89c9-173d5cd1cbec",
   "metadata": {},
   "outputs": [],
   "source": [
    "class NeuralNet(nn.Module):\n",
    "    def __init__(self):\n",
    "        super().__init__()\n",
    "        self.conv1 = nn.Conv2d(3, 12, 5)\n",
    "        self.pool = nn.MaxPool2d(2, 2)\n",
    "        self.conv2 = nn.Conv2d(12, 24, 5)\n",
    "        self.fc1 = nn.Linear(24*5*5, 120)\n",
    "        self.fc2 = nn.Linear(120, 84)\n",
    "        self.fc3 = nn.Linear(84, 10)\n",
    "\n",
    "    def forward(self, x):\n",
    "        x = self.pool(F.relu(self.conv1(x)))\n",
    "        x = self.pool(F.relu(self.conv2(x)))\n",
    "        x = torch.flatten(x, 1)\n",
    "        x = F.relu(self.fc1(x))\n",
    "        x = F.relu(self.fc2(x))\n",
    "        x = self.fc3(x)\n",
    "        return x \n"
   ]
  },
  {
   "cell_type": "code",
   "execution_count": 8,
   "id": "09b51337-3202-45cf-b36f-3bb635a1235c",
   "metadata": {},
   "outputs": [],
   "source": [
    "net = NeuralNet()\n",
    "loss_function = nn.CrossEntropyLoss()\n",
    "optimizer = optim.SGD(net.parameters(), lr=0.001, momentum=0.9)"
   ]
  },
  {
   "cell_type": "code",
   "execution_count": 9,
   "id": "26b86f74-a1e7-4c4e-ac91-efc5ff8a6954",
   "metadata": {},
   "outputs": [
    {
     "name": "stdout",
     "output_type": "stream",
     "text": [
      "Training epoch 0... \n",
      "Loss: 2.1948\n",
      "Training epoch 1... \n",
      "Loss: 1.7831\n",
      "Training epoch 2... \n",
      "Loss: 1.5426\n",
      "Training epoch 3... \n",
      "Loss: 1.4156\n",
      "Training epoch 4... \n",
      "Loss: 1.3257\n",
      "Training epoch 5... \n",
      "Loss: 1.2459\n",
      "Training epoch 6... \n",
      "Loss: 1.1771\n",
      "Training epoch 7... \n",
      "Loss: 1.1128\n",
      "Training epoch 8... \n",
      "Loss: 1.0575\n",
      "Training epoch 9... \n",
      "Loss: 1.0062\n",
      "Training epoch 10... \n",
      "Loss: 0.9645\n",
      "Training epoch 11... \n",
      "Loss: 0.9242\n",
      "Training epoch 12... \n",
      "Loss: 0.8860\n",
      "Training epoch 13... \n",
      "Loss: 0.8519\n",
      "Training epoch 14... \n",
      "Loss: 0.8242\n",
      "Training epoch 15... \n",
      "Loss: 0.7904\n",
      "Training epoch 16... \n",
      "Loss: 0.7602\n",
      "Training epoch 17... \n",
      "Loss: 0.7382\n",
      "Training epoch 18... \n",
      "Loss: 0.7100\n",
      "Training epoch 19... \n",
      "Loss: 0.6878\n",
      "Training epoch 20... \n",
      "Loss: 0.6616\n",
      "Training epoch 21... \n",
      "Loss: 0.6420\n",
      "Training epoch 22... \n",
      "Loss: 0.6193\n",
      "Training epoch 23... \n",
      "Loss: 0.5966\n",
      "Training epoch 24... \n",
      "Loss: 0.5767\n",
      "Training epoch 25... \n",
      "Loss: 0.5571\n",
      "Training epoch 26... \n",
      "Loss: 0.5325\n",
      "Training epoch 27... \n",
      "Loss: 0.5144\n",
      "Training epoch 28... \n",
      "Loss: 0.4961\n",
      "Training epoch 29... \n",
      "Loss: 0.4797\n"
     ]
    }
   ],
   "source": [
    "for epoch in range(30):\n",
    "    print(f'Training epoch {epoch}... ')\n",
    "    running_loss = 0.0\n",
    "    for i, data in enumerate(train_loader):\n",
    "        inputs, labels = data\n",
    "        optimizer.zero_grad()\n",
    "        outputs = net(inputs)\n",
    "        loss = loss_function(outputs, labels)\n",
    "        loss.backward()\n",
    "        optimizer.step()\n",
    "        running_loss += loss.item()\n",
    "    print(f'Loss: {running_loss / len(train_loader):.4f}')"
   ]
  },
  {
   "cell_type": "code",
   "execution_count": 13,
   "id": "8a97ccd9-374a-469f-8238-9cd839304644",
   "metadata": {},
   "outputs": [
    {
     "data": {
      "text/plain": [
       "<All keys matched successfully>"
      ]
     },
     "execution_count": 13,
     "metadata": {},
     "output_type": "execute_result"
    }
   ],
   "source": [
    "torch.save(net.state_dict(), 'trained_net.pth')\n",
    "\n",
    "net = NeuralNet()\n",
    "net.load_state_dict(torch.load('trained_net.pth', weights_only=True))\n"
   ]
  },
  {
   "cell_type": "code",
   "execution_count": 15,
   "id": "66a80ef8-d9cd-47ff-b750-f74d19e31d76",
   "metadata": {},
   "outputs": [
    {
     "name": "stdout",
     "output_type": "stream",
     "text": [
      "Accuracy: 68.06%\n"
     ]
    }
   ],
   "source": [
    "correct = 0\n",
    "total = 0\n",
    "\n",
    "net.eval()\n",
    "\n",
    "with torch.no_grad():\n",
    "    for data in test_loader:\n",
    "        images, labels = data\n",
    "        outputs = net(images)\n",
    "        _, predicted = torch.max(outputs, 1)\n",
    "        total += labels.size(0)\n",
    "        correct += (predicted == labels).sum().item()\n",
    "accuracy = 100 * correct/total\n",
    "print(f'Accuracy: {accuracy}%')\n"
   ]
  },
  {
   "cell_type": "code",
   "execution_count": 25,
   "id": "2e30044e-5506-4ed1-b6d6-2c6878def858",
   "metadata": {},
   "outputs": [
    {
     "name": "stdout",
     "output_type": "stream",
     "text": [
      "Prediction: dog\n",
      "Prediction: plane\n"
     ]
    }
   ],
   "source": [
    "new_transform = transforms.Compose([\n",
    "    transforms.Resize((32, 32)),\n",
    "    transforms.ToTensor(),\n",
    "    transforms.Normalize((0.5, 0.5, 0.5), (0.5, 0.5, 0.5))\n",
    "])\n",
    "\n",
    "def load_images(image_path):\n",
    "    image = Image.open(image_path)\n",
    "    image = new_transform(image)\n",
    "    image = image.unsqueeze(0)\n",
    "    return image \n",
    "image_paths = ['example1.jpg', 'example2.jpg']\n",
    "images = [load_images(img) for img in image_paths]\n",
    "\n",
    "net.eval()\n",
    "with torch.no_grad():\n",
    "    for image in images:\n",
    "        output = net(image)\n",
    "        _, predicted = torch.max(output, 1)\n",
    "        print(f'Prediction: {class_names[predicted.item()]}')"
   ]
  },
  {
   "cell_type": "code",
   "execution_count": null,
   "id": "6d461883-c570-4add-bb61-b0542c2ece80",
   "metadata": {},
   "outputs": [],
   "source": []
  }
 ],
 "metadata": {
  "kernelspec": {
   "display_name": "Python 3 (ipykernel)",
   "language": "python",
   "name": "python3"
  },
  "language_info": {
   "codemirror_mode": {
    "name": "ipython",
    "version": 3
   },
   "file_extension": ".py",
   "mimetype": "text/x-python",
   "name": "python",
   "nbconvert_exporter": "python",
   "pygments_lexer": "ipython3",
   "version": "3.12.4"
  }
 },
 "nbformat": 4,
 "nbformat_minor": 5
}
